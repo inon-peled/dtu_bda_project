{
 "cells": [
  {
   "cell_type": "markdown",
   "metadata": {},
   "source": [
    "## Day-of-Week Historical Average (HA)"
   ]
  },
  {
   "cell_type": "code",
   "execution_count": 11,
   "metadata": {},
   "outputs": [],
   "source": [
    "from plot_quarterly import plot_quarterly\n",
    "import gzip\n",
    "import pickle\n",
    "import os\n",
    "import matplotlib\n",
    "%matplotlib inline\n",
    "import matplotlib.pyplot as plt\n",
    "from pylab import rcParams\n",
    "import pandas as pd\n",
    "import pystan\n",
    "from matplotlib.ticker import MultipleLocator\n",
    "from scipy.stats import gaussian_kde\n",
    "import numpy as np\n",
    "from datetime import datetime, timedelta\n",
    "import warnings\n",
    "warnings.simplefilter(action='ignore', category=FutureWarning)\n",
    "\n",
    "rcParams['figure.figsize'] = 16, 14"
   ]
  },
  {
   "cell_type": "code",
   "execution_count": 2,
   "metadata": {},
   "outputs": [
    {
     "data": {
      "text/html": [
       "<div>\n",
       "<style scoped>\n",
       "    .dataframe tbody tr th:only-of-type {\n",
       "        vertical-align: middle;\n",
       "    }\n",
       "\n",
       "    .dataframe tbody tr th {\n",
       "        vertical-align: top;\n",
       "    }\n",
       "\n",
       "    .dataframe thead th {\n",
       "        text-align: right;\n",
       "    }\n",
       "</style>\n",
       "<table border=\"1\" class=\"dataframe\">\n",
       "  <thead>\n",
       "    <tr style=\"text-align: right;\">\n",
       "      <th></th>\n",
       "      <th>year</th>\n",
       "      <th>month</th>\n",
       "      <th>day</th>\n",
       "      <th>day_of_week</th>\n",
       "      <th>births</th>\n",
       "      <th>weekday_name</th>\n",
       "      <th>day_of_year</th>\n",
       "      <th>week_of_year</th>\n",
       "    </tr>\n",
       "  </thead>\n",
       "  <tbody>\n",
       "    <tr>\n",
       "      <th>2014-12-27</th>\n",
       "      <td>2014</td>\n",
       "      <td>12</td>\n",
       "      <td>27</td>\n",
       "      <td>6</td>\n",
       "      <td>8656</td>\n",
       "      <td>Saturday</td>\n",
       "      <td>361</td>\n",
       "      <td>52</td>\n",
       "    </tr>\n",
       "    <tr>\n",
       "      <th>2014-12-28</th>\n",
       "      <td>2014</td>\n",
       "      <td>12</td>\n",
       "      <td>28</td>\n",
       "      <td>7</td>\n",
       "      <td>7724</td>\n",
       "      <td>Sunday</td>\n",
       "      <td>362</td>\n",
       "      <td>52</td>\n",
       "    </tr>\n",
       "    <tr>\n",
       "      <th>2014-12-29</th>\n",
       "      <td>2014</td>\n",
       "      <td>12</td>\n",
       "      <td>29</td>\n",
       "      <td>1</td>\n",
       "      <td>12811</td>\n",
       "      <td>Monday</td>\n",
       "      <td>363</td>\n",
       "      <td>1</td>\n",
       "    </tr>\n",
       "    <tr>\n",
       "      <th>2014-12-30</th>\n",
       "      <td>2014</td>\n",
       "      <td>12</td>\n",
       "      <td>30</td>\n",
       "      <td>2</td>\n",
       "      <td>13634</td>\n",
       "      <td>Tuesday</td>\n",
       "      <td>364</td>\n",
       "      <td>1</td>\n",
       "    </tr>\n",
       "    <tr>\n",
       "      <th>2014-12-31</th>\n",
       "      <td>2014</td>\n",
       "      <td>12</td>\n",
       "      <td>31</td>\n",
       "      <td>3</td>\n",
       "      <td>11990</td>\n",
       "      <td>Wednesday</td>\n",
       "      <td>365</td>\n",
       "      <td>1</td>\n",
       "    </tr>\n",
       "  </tbody>\n",
       "</table>\n",
       "</div>"
      ],
      "text/plain": [
       "            year  month  day  day_of_week  births weekday_name  day_of_year  \\\n",
       "2014-12-27  2014     12   27            6    8656     Saturday          361   \n",
       "2014-12-28  2014     12   28            7    7724       Sunday          362   \n",
       "2014-12-29  2014     12   29            1   12811       Monday          363   \n",
       "2014-12-30  2014     12   30            2   13634      Tuesday          364   \n",
       "2014-12-31  2014     12   31            3   11990    Wednesday          365   \n",
       "\n",
       "            week_of_year  \n",
       "2014-12-27            52  \n",
       "2014-12-28            52  \n",
       "2014-12-29             1  \n",
       "2014-12-30             1  \n",
       "2014-12-31             1  "
      ]
     },
     "execution_count": 2,
     "metadata": {},
     "output_type": "execute_result"
    }
   ],
   "source": [
    "# Dataframe\n",
    "births_2000s_df = pd.read_csv('US_births_2000-2014_SSA.csv')\n",
    "births_2000s_df_with_index = births_2000s_df\\\n",
    "    .rename(columns={'date_of_month': 'day'})\\\n",
    "    .set_index(pd.to_datetime(\n",
    "        births_2000s_df.rename(columns={'date_of_month': 'day'})\n",
    "        [['year', 'month', 'day']]))\\\n",
    "    .assign(weekday_name=lambda df: df.index.weekday_name)\\\n",
    "    .assign(day_of_year=lambda df: df.index.dayofyear)\\\n",
    "    .assign(week_of_year=lambda df: df.index.weekofyear)\n",
    "births_2000s_df_with_index.tail()"
   ]
  },
  {
   "cell_type": "code",
   "execution_count": 3,
   "metadata": {},
   "outputs": [
    {
     "data": {
      "text/plain": [
       "{'x_test': array([3, 4, 5, 6, 7, 1, 2], dtype=int64),\n",
       " 'x_train': array([1, 2, 3, ..., 7, 1, 2], dtype=int64),\n",
       " 'y_test': array([ 8018, 11171, 12317,  8199,  7174, 11400, 12310], dtype=int64),\n",
       " 'y_train': array([ 7663, 10635, 12449, ...,  7896, 13096, 12525], dtype=int64)}"
      ]
     },
     "execution_count": 3,
     "metadata": {},
     "output_type": "execute_result"
    }
   ],
   "source": [
    "def get_train_and_test_for_sliding_window(test_date):\n",
    "    num_data_points_before_first_test_date = datetime(2014, 1, 1) - datetime(2001, 1, 1)\n",
    "    df = births_2000s_df_with_index[['day_of_week', 'births']]\\\n",
    "        [lambda df: df.index <= test_date + timedelta(days=6)]\\\n",
    "        [lambda df: df.index >= test_date - num_data_points_before_first_test_date]\n",
    "    return {\n",
    "        'x_train': df.day_of_week[:-7].values,\n",
    "        'y_train': df.births[:-7].values,\n",
    "        'x_test': df.day_of_week[-7:].values,\n",
    "        'y_test': df.births[-7:].values\n",
    "    }\n",
    "        \n",
    "get_train_and_test_for_sliding_window(datetime(2014, 1, 1))"
   ]
  },
  {
   "cell_type": "code",
   "execution_count": 4,
   "metadata": {},
   "outputs": [],
   "source": [
    "def historical_average(x_train, y_train):\n",
    "    ha = np.empty(7)\n",
    "    ci_95_half_width = np.empty(7)\n",
    "    for i in range(7):\n",
    "        ha[i] = y_train[x_train - 1 == i].mean()\n",
    "        ci_95_half_width[i] = 1.96 * y_train[x_train - 1 == i].std() / np.sqrt(sum(x_train - 1 == i))\n",
    "    return ha, ci_95_half_width"
   ]
  },
  {
   "cell_type": "code",
   "execution_count": 5,
   "metadata": {},
   "outputs": [
    {
     "data": {
      "text/plain": [
       "(array([11929.12223859, 13172.18409426, 12974.72418879, 12905.24483776,\n",
       "        12638.68141593,  8539.78318584,  7488.92182891]),\n",
       " array([89.4599121 , 69.79938226, 67.25094379, 89.0243478 , 75.93481567,\n",
       "        37.4211567 , 29.10729863]))"
      ]
     },
     "execution_count": 5,
     "metadata": {},
     "output_type": "execute_result"
    }
   ],
   "source": [
    "# Quick check for one window.\n",
    "historical_average(\n",
    "    get_train_and_test_for_sliding_window(datetime(2014, 1, 1))['x_train'],\n",
    "    get_train_and_test_for_sliding_window(datetime(2014, 1, 1))['y_train'])"
   ]
  },
  {
   "cell_type": "code",
   "execution_count": 6,
   "metadata": {},
   "outputs": [],
   "source": [
    "def rmse(prediction_errors):\n",
    "    return (prediction_errors ** 2).mean() ** 0.5"
   ]
  },
  {
   "cell_type": "code",
   "execution_count": 7,
   "metadata": {},
   "outputs": [],
   "source": [
    "def fit_ha_sliding_windows(num_windows):\n",
    "    predictions = []\n",
    "    ci_95_half_widths = []\n",
    "    y_test_2014 = []\n",
    "    for i in range(num_windows):\n",
    "        data = get_train_and_test_for_sliding_window(datetime(2014, 1, 1) + timedelta(days=i * 7))\n",
    "        y_test_2014.extend(data['y_test'])\n",
    "        y_pred, ci_95_hw = [values[data['x_test'] - 1] for values in \n",
    "                            historical_average(data['x_train'], data['y_train'])]\n",
    "        predictions.extend(y_pred)\n",
    "        ci_95_half_widths.extend(ci_95_hw)\n",
    "    return [pd.Series(\n",
    "        values, \n",
    "        index=pd.date_range(start=datetime(2014, 1, 1), end=datetime(2014, 12, 30))) \n",
    "            for values in (predictions, ci_95_half_widths, y_test_2014)]"
   ]
  },
  {
   "cell_type": "code",
   "execution_count": 8,
   "metadata": {},
   "outputs": [],
   "source": [
    "predicitons, ci_95_half_widths, y_test_2014 = fit_ha_sliding_windows(num_windows=52)"
   ]
  },
  {
   "cell_type": "code",
   "execution_count": 9,
   "metadata": {},
   "outputs": [
    {
     "data": {
      "text/plain": [
       "896.5599217481686"
      ]
     },
     "execution_count": 9,
     "metadata": {},
     "output_type": "execute_result"
    }
   ],
   "source": [
    "rmse(predicitons - y_test_2014)"
   ]
  },
  {
   "cell_type": "code",
   "execution_count": 26,
   "metadata": {},
   "outputs": [
    {
     "data": {
      "image/png": "[encoded data removed]",
      "text/plain": [
       "<matplotlib.figure.Figure at 0x1baeda87e10>"
      ]
     },
     "metadata": {},
     "output_type": "display_data"
    }
   ],
   "source": [
    "import matplotlib.pyplot as plt\n",
    "from datetime import datetime\n",
    "\n",
    "\n",
    "def plot_quarterly(model_name, mean_predictions, ci_95_half_widths, y_test_2014):\n",
    "    def add_date_index(values):\n",
    "        return pd.Series(values, \n",
    "                         index=pd.date_range(start=datetime(2014, 1, 1), end=datetime(2014, 12, 30)))\n",
    "    \n",
    "    def filter_date_range(series):\n",
    "        return series\\\n",
    "            [lambda df: df.index >= from_date_inclusive]\\\n",
    "            [lambda df: df.index < to_date_non_inclusive]\n",
    "    \n",
    "    plt.tight_layout()\n",
    "    for i, (quarter, from_date_inclusive, to_date_non_inclusive) in enumerate([\n",
    "        ('Q1', datetime(2014, 5, 1), datetime(2014, 6, 1)),\n",
    "    ]):    \n",
    "        plt.subplot(411 + i)\n",
    "        plt.plot(filter_date_range(y_test_2014), \"b-\", label='Actual', lw=1.5)\n",
    "        plt.plot(filter_date_range(mean_predictions), \"r-x\", label='Predicted', lw=1)\n",
    "        plt.fill_between(filter_date_range(y_test_2014).index, \n",
    "                         filter_date_range(mean_predictions + ci_95_half_widths),\n",
    "                         filter_date_range(mean_predictions - ci_95_half_widths),\n",
    "                         color='lightgrey', label='95% C.I.')\n",
    "        plt.legend(loc='lower left', fontsize=12)\n",
    "        plt.text(0.01, 0.9, quarter, fontsize=20,\n",
    "                 horizontalalignment='left', verticalalignment='center', transform=plt.gca().transAxes)\n",
    "        if i == 0:\n",
    "            plt.title(model_name, fontsize=20)\n",
    "\n",
    "plot_quarterly('Historical Average', predicitons, ci_95_half_widths, y_test_2014)"
   ]
  }
 ],
 "metadata": {
  "kernelspec": {
   "display_name": "Python 3",
   "language": "python",
   "name": "python3"
  },
  "language_info": {
   "codemirror_mode": {
    "name": "ipython",
    "version": 3
   },
   "file_extension": ".py",
   "mimetype": "text/x-python",
   "name": "python",
   "nbconvert_exporter": "python",
   "pygments_lexer": "ipython3",
   "version": "3.6.4"
  }
 },
 "nbformat": 4,
 "nbformat_minor": 2
}
