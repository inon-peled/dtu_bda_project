{
 "cells": [
  {
   "cell_type": "code",
   "execution_count": 6,
   "metadata": {},
   "outputs": [],
   "source": [
    "import pickle\n",
    "import pystan\n",
    "import numpy as np"
   ]
  },
  {
   "cell_type": "code",
   "execution_count": 7,
   "metadata": {},
   "outputs": [
    {
     "data": {
      "text/plain": [
       "(40.49, 10.755653074707121)"
      ]
     },
     "execution_count": 7,
     "metadata": {},
     "output_type": "execute_result"
    }
   ],
   "source": [
    "# Generate artificial samples from Neg Bin.\n",
    "artificial_samples = np.random.negative_binomial(10, 0.2, 1000)\n",
    "mu = artificial_samples.mean()\n",
    "phi = (mu ** 2) / (artificial_samples.var() - mu)\n",
    "mu, phi"
   ]
  },
  {
   "cell_type": "code",
   "execution_count": null,
   "metadata": {},
   "outputs": [],
   "source": [
    "model = model_even_simpler_hier_negbin = pystan.StanModel(model_code='''\n",
    "data {\n",
    "    int<lower=0> N; // Number of data points.\n",
    "    int y[N]; // data points.\n",
    "    real prior_mu;\n",
    "    real prior_phi;\n",
    "}\n",
    "parameters {\n",
    "    real<lower=0> phi; // Prevent too low phi, which yields enormous variance in NegBin.\n",
    "    real<lower=0> mu;\n",
    "}\n",
    "model {\n",
    "    mu ~ normal(prior_mu, 10);\n",
    "    phi ~ normal(prior_phi, 10);    \n",
    "    y ~ neg_binomial_2(mu, phi);\n",
    "}\n",
    "''')"
   ]
  },
  {
   "cell_type": "code",
   "execution_count": null,
   "metadata": {},
   "outputs": [],
   "source": [
    "with open('model_artificial_negbin.pkl', 'wb') as f:\n",
    "    pickle.dump(model, f)"
   ]
  },
  {
   "cell_type": "code",
   "execution_count": 8,
   "metadata": {},
   "outputs": [],
   "source": [
    "model = pickle.load(open('model_artificial_negbin.pkl', 'rb'))"
   ]
  },
  {
   "cell_type": "code",
   "execution_count": 11,
   "metadata": {},
   "outputs": [
    {
     "name": "stderr",
     "output_type": "stream",
     "text": [
      "/home/inonpe/jupyter/dtu_bda_project/env/lib/python3.5/site-packages/pystan/misc.py:399: FutureWarning: Conversion of the second argument of issubdtype from `float` to `np.floating` is deprecated. In future, it will be treated as `np.float64 == np.dtype(float).type`.\n",
      "  elif np.issubdtype(np.asarray(v).dtype, float):\n"
     ]
    }
   ],
   "source": [
    "fit = model.sampling(\n",
    "    seed=1234, \n",
    "    data={'N': 1000, 'y': artificial_samples, 'prior_mu': mu, 'prior_phi': phi},\n",
    "    iter=400, chains=1)\n"
   ]
  },
  {
   "cell_type": "code",
   "execution_count": 12,
   "metadata": {},
   "outputs": [
    {
     "data": {
      "text/plain": [
       "Inference for Stan model: anon_model_4cf8d16a474380cc6c3df264b4082b69.\n",
       "1 chains, each with iter=400; warmup=200; thin=1; \n",
       "post-warmup draws per chain=200, total post-warmup draws=200.\n",
       "\n",
       "       mean se_mean     sd   2.5%    25%    50%    75%  97.5%  n_eff   Rhat\n",
       "phi   10.65    0.06   0.51   9.81  10.29  10.61  10.99  11.81     64    1.0\n",
       "mu    40.46    0.03   0.44  39.65   40.2  40.45  40.78  41.33    158   1.01\n",
       "lp__  1.1e5    0.07   0.82  1.1e5  1.1e5  1.1e5  1.1e5  1.1e5    128   1.01\n",
       "\n",
       "Samples were drawn using NUTS at Thu Apr 12 10:31:22 2018.\n",
       "For each parameter, n_eff is a crude measure of effective sample size,\n",
       "and Rhat is the potential scale reduction factor on split chains (at \n",
       "convergence, Rhat=1)."
      ]
     },
     "execution_count": 12,
     "metadata": {},
     "output_type": "execute_result"
    }
   ],
   "source": [
    "fit"
   ]
  },
  {
   "cell_type": "markdown",
   "metadata": {},
   "source": [
    "Conclusion: we use mu and phi correctly in neg_binomial_2."
   ]
  }
 ],
 "metadata": {
  "kernelspec": {
   "display_name": "Python 3",
   "language": "python",
   "name": "python3"
  },
  "language_info": {
   "codemirror_mode": {
    "name": "ipython",
    "version": 3
   },
   "file_extension": ".py",
   "mimetype": "text/x-python",
   "name": "python",
   "nbconvert_exporter": "python",
   "pygments_lexer": "ipython3",
   "version": "3.5.2"
  }
 },
 "nbformat": 4,
 "nbformat_minor": 2
}
