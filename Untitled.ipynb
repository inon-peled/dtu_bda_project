{
 "cells": [
  {
   "cell_type": "code",
   "execution_count": 4,
   "metadata": {},
   "outputs": [
    {
     "data": {
      "image/png": "[encoded data removed]",
      "text/plain": [
       "<Figure size 432x288 with 1 Axes>"
      ]
     },
     "metadata": {},
     "output_type": "display_data"
    }
   ],
   "source": [
    "%matplotlib inline\n",
    "\n",
    "import matplotlib.pyplot as plt\n",
    "import numpy as np\n",
    "\n",
    "# fake up some data\n",
    "spread = np.random.rand(50) * 100\n",
    "center = np.ones(25) * 50\n",
    "flier_high = np.random.rand(10) * 100 + 100\n",
    "flier_low = np.random.rand(10) * -100\n",
    "data = np.concatenate((spread, center, flier_high, flier_low), 0)\n",
    "\n",
    "# basic plot\n",
    "# plt.boxplot(data)\n",
    "\n",
    "# # notched plot\n",
    "# plt.figure()\n",
    "# plt.boxplot(data, 1)\n",
    "\n",
    "# # change outlier point symbols\n",
    "# plt.figure()\n",
    "# plt.boxplot(data, 0, 'gD')\n",
    "\n",
    "# # don't show outlier points\n",
    "# plt.figure()\n",
    "# plt.boxplot(data, 0, '')\n",
    "\n",
    "# # horizontal boxes\n",
    "# plt.figure()\n",
    "# plt.boxplot(data, 0, 'rs', 0)\n",
    "\n",
    "# # change whisker length\n",
    "# plt.figure()\n",
    "# plt.boxplot(data, 0, 'rs', 0, 0.75)\n",
    "\n",
    "# fake up some more data\n",
    "spread = np.random.rand(50) * 100\n",
    "center = np.ones(25) * 40\n",
    "flier_high = np.random.rand(10) * 100 + 100\n",
    "flier_low = np.random.rand(10) * -100\n",
    "d2 = np.concatenate((spread, center, flier_high, flier_low), 0)\n",
    "data.shape = (-1, 1)\n",
    "d2.shape = (-1, 1)\n",
    "# data = concatenate( (data, d2), 1 )\n",
    "# Making a 2-D array only works if all the columns are the\n",
    "# same length.  If they are not, then use a list instead.\n",
    "# This is actually more efficient because boxplot converts\n",
    "# a 2-D array into a list of vectors internally anyway.\n",
    "data = [data, d2, d2[::2, 0]]\n",
    "# multiple box plots on one figure\n",
    "plt.figure()\n",
    "plt.boxplot(data)\n",
    "\n",
    "plt.show()"
   ]
  },
  {
   "cell_type": "code",
   "execution_count": 7,
   "metadata": {},
   "outputs": [
    {
     "data": {
      "text/plain": [
       "array([ 26.88493851,  74.63180858,  89.76767767,  47.30626115,\n",
       "        55.67863267,  98.58321177,  78.88619668,  33.56166   ,\n",
       "         6.25533343,  97.80920583,  84.67376736,  77.50909332,\n",
       "        67.6694922 ,  92.82422325,  68.97778588,   7.24675429,\n",
       "        80.37521443,  25.53358519,  77.69728864,  91.74909029,\n",
       "        46.24551765,  50.91445987,  69.14290974,  38.67170575,\n",
       "        52.64411392,  40.        ,  40.        ,  40.        ,\n",
       "        40.        ,  40.        ,  40.        ,  40.        ,\n",
       "        40.        ,  40.        ,  40.        ,  40.        ,\n",
       "        40.        ,  40.        , 139.56276163, 111.7305736 ,\n",
       "       174.04216345, 121.11835377, 190.7466604 , -20.27635317,\n",
       "       -82.24563949, -88.91126021, -85.13660709, -82.98917521])"
      ]
     },
     "execution_count": 7,
     "metadata": {},
     "output_type": "execute_result"
    }
   ],
   "source": [
    "d2[::2, 0]"
   ]
  }
 ],
 "metadata": {
  "kernelspec": {
   "display_name": "Python 3",
   "language": "python",
   "name": "python3"
  },
  "language_info": {
   "codemirror_mode": {
    "name": "ipython",
    "version": 3
   },
   "file_extension": ".py",
   "mimetype": "text/x-python",
   "name": "python",
   "nbconvert_exporter": "python",
   "pygments_lexer": "ipython3",
   "version": "3.5.2"
  }
 },
 "nbformat": 4,
 "nbformat_minor": 2
}
